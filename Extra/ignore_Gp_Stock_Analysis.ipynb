{
 "cells": [
  {
   "cell_type": "markdown",
   "metadata": {},
   "source": [
    "### Dependencies###\n"
   ]
  },
  {
   "cell_type": "code",
   "execution_count": 2,
   "metadata": {
    "collapsed": true
   },
   "outputs": [],
   "source": [
    "from datetime import datetime as dt\n",
    "import matplotlib.pyplot as plt\n",
    "from matplotlib import style\n",
    "import pandas as pd\n",
    "import pandas_datareader.data as web\n",
    "import json\n",
    "import numpy as np\n",
    "#%matplotlib inline"
   ]
  },
  {
   "cell_type": "markdown",
   "metadata": {},
   "source": [
    "### Helpful links: ###\n",
    "http://pandas-datareader.readthedocs.io/en/latest/remote_data.html#remote-data-morningstar\n",
    "https://pythonprogramming.net/getting-stock-prices-python-programming-for-finance/"
   ]
  },
  {
   "cell_type": "code",
   "execution_count": 22,
   "metadata": {},
   "outputs": [
    {
     "data": {
      "text/plain": [
       "Symbol  Date      \n",
       "FB      2017-01-02    115.05\n",
       "        2017-01-03    116.86\n",
       "        2017-01-04    118.69\n",
       "        2017-01-05    120.67\n",
       "        2017-01-06    123.41\n",
       "Name: Close, dtype: float64"
      ]
     },
     "execution_count": 22,
     "metadata": {},
     "output_type": "execute_result"
    }
   ],
   "source": [
    "stocks = [\"FB\",\"AAPL\",\"AMZN\",\"NFLX\",\"GOOG\",\"GLD\"]\n",
    "start = dt(2017, 1, 1)\n",
    "end = dt(2017, 12, 31)\n",
    "\n",
    "stocksdf = web.DataReader(stocks,\"morningstar\", start, end)\n",
    "stocksdf.head()\n"
   ]
  },
  {
   "cell_type": "code",
   "execution_count": 6,
   "metadata": {
    "collapsed": true
   },
   "outputs": [],
   "source": [
    "stocksdf.to_csv(\"main.csv\")"
   ]
  },
  {
   "cell_type": "code",
   "execution_count": 28,
   "metadata": {},
   "outputs": [
    {
     "data": {
      "text/html": [
       "<div>\n",
       "<style>\n",
       "    .dataframe thead tr:only-child th {\n",
       "        text-align: right;\n",
       "    }\n",
       "\n",
       "    .dataframe thead th {\n",
       "        text-align: left;\n",
       "    }\n",
       "\n",
       "    .dataframe tbody tr th {\n",
       "        vertical-align: top;\n",
       "    }\n",
       "</style>\n",
       "<table border=\"1\" class=\"dataframe\">\n",
       "  <thead>\n",
       "    <tr style=\"text-align: right;\">\n",
       "      <th></th>\n",
       "      <th>Symbol</th>\n",
       "      <th>Date</th>\n",
       "      <th>Close</th>\n",
       "      <th>High</th>\n",
       "      <th>Low</th>\n",
       "      <th>Open</th>\n",
       "      <th>Volume</th>\n",
       "      <th>Close-Open</th>\n",
       "    </tr>\n",
       "  </thead>\n",
       "  <tbody>\n",
       "    <tr>\n",
       "      <th>0</th>\n",
       "      <td>FB</td>\n",
       "      <td>1/02/2017</td>\n",
       "      <td>115.05</td>\n",
       "      <td>115.05</td>\n",
       "      <td>115.0500</td>\n",
       "      <td>115.05</td>\n",
       "      <td>0</td>\n",
       "      <td>0.00</td>\n",
       "    </tr>\n",
       "    <tr>\n",
       "      <th>1</th>\n",
       "      <td>FB</td>\n",
       "      <td>1/03/2017</td>\n",
       "      <td>116.86</td>\n",
       "      <td>117.84</td>\n",
       "      <td>115.5100</td>\n",
       "      <td>116.03</td>\n",
       "      <td>20663912</td>\n",
       "      <td>0.83</td>\n",
       "    </tr>\n",
       "    <tr>\n",
       "      <th>2</th>\n",
       "      <td>FB</td>\n",
       "      <td>1/04/2017</td>\n",
       "      <td>118.69</td>\n",
       "      <td>119.66</td>\n",
       "      <td>117.2900</td>\n",
       "      <td>117.55</td>\n",
       "      <td>19630932</td>\n",
       "      <td>1.14</td>\n",
       "    </tr>\n",
       "    <tr>\n",
       "      <th>3</th>\n",
       "      <td>FB</td>\n",
       "      <td>1/05/2017</td>\n",
       "      <td>120.67</td>\n",
       "      <td>120.95</td>\n",
       "      <td>118.3209</td>\n",
       "      <td>118.86</td>\n",
       "      <td>19492150</td>\n",
       "      <td>1.81</td>\n",
       "    </tr>\n",
       "    <tr>\n",
       "      <th>4</th>\n",
       "      <td>FB</td>\n",
       "      <td>1/06/2017</td>\n",
       "      <td>123.41</td>\n",
       "      <td>123.88</td>\n",
       "      <td>120.0300</td>\n",
       "      <td>120.98</td>\n",
       "      <td>28545263</td>\n",
       "      <td>2.43</td>\n",
       "    </tr>\n",
       "  </tbody>\n",
       "</table>\n",
       "</div>"
      ],
      "text/plain": [
       "  Symbol       Date   Close    High       Low    Open    Volume  Close-Open\n",
       "0     FB  1/02/2017  115.05  115.05  115.0500  115.05         0        0.00\n",
       "1     FB  1/03/2017  116.86  117.84  115.5100  116.03  20663912        0.83\n",
       "2     FB  1/04/2017  118.69  119.66  117.2900  117.55  19630932        1.14\n",
       "3     FB  1/05/2017  120.67  120.95  118.3209  118.86  19492150        1.81\n",
       "4     FB  1/06/2017  123.41  123.88  120.0300  120.98  28545263        2.43"
      ]
     },
     "execution_count": 28,
     "metadata": {},
     "output_type": "execute_result"
    }
   ],
   "source": [
    "stocksdf = pd.read_csv(\"main.csv\")\n",
    "\n",
    "stocksdf.head()"
   ]
  },
  {
   "cell_type": "code",
   "execution_count": 29,
   "metadata": {},
   "outputs": [
    {
     "name": "stderr",
     "output_type": "stream",
     "text": [
      "/Users/gayatripingale/anaconda3/lib/python3.6/site-packages/pandas_datareader/google/daily.py:40: UnstableAPIWarning: \n",
      "The Google Finance API has not been stable since late 2017. Requests seem\n",
      "to fail at random. Failure is especially common when bulk downloading.\n",
      "\n",
      "  warnings.warn(UNSTABLE_WARNING, UnstableAPIWarning)\n"
     ]
    },
    {
     "data": {
      "text/html": [
       "<div>\n",
       "<style>\n",
       "    .dataframe thead tr:only-child th {\n",
       "        text-align: right;\n",
       "    }\n",
       "\n",
       "    .dataframe thead th {\n",
       "        text-align: left;\n",
       "    }\n",
       "\n",
       "    .dataframe tbody tr th {\n",
       "        vertical-align: top;\n",
       "    }\n",
       "</style>\n",
       "<table border=\"1\" class=\"dataframe\">\n",
       "  <thead>\n",
       "    <tr style=\"text-align: right;\">\n",
       "      <th></th>\n",
       "      <th>AAPL</th>\n",
       "      <th>AMZN</th>\n",
       "      <th>FB</th>\n",
       "      <th>GLD</th>\n",
       "      <th>GOOG</th>\n",
       "      <th>NFLX</th>\n",
       "    </tr>\n",
       "    <tr>\n",
       "      <th>Date</th>\n",
       "      <th></th>\n",
       "      <th></th>\n",
       "      <th></th>\n",
       "      <th></th>\n",
       "      <th></th>\n",
       "      <th></th>\n",
       "    </tr>\n",
       "  </thead>\n",
       "  <tbody>\n",
       "    <tr>\n",
       "      <th>2017-01-03</th>\n",
       "      <td>116.15</td>\n",
       "      <td>753.67</td>\n",
       "      <td>116.86</td>\n",
       "      <td>110.47</td>\n",
       "      <td>786.14</td>\n",
       "      <td>127.49</td>\n",
       "    </tr>\n",
       "    <tr>\n",
       "      <th>2017-01-04</th>\n",
       "      <td>116.02</td>\n",
       "      <td>757.18</td>\n",
       "      <td>118.69</td>\n",
       "      <td>110.86</td>\n",
       "      <td>786.90</td>\n",
       "      <td>129.41</td>\n",
       "    </tr>\n",
       "    <tr>\n",
       "      <th>2017-01-05</th>\n",
       "      <td>116.61</td>\n",
       "      <td>780.45</td>\n",
       "      <td>120.67</td>\n",
       "      <td>112.58</td>\n",
       "      <td>794.02</td>\n",
       "      <td>131.81</td>\n",
       "    </tr>\n",
       "    <tr>\n",
       "      <th>2017-01-06</th>\n",
       "      <td>117.91</td>\n",
       "      <td>795.99</td>\n",
       "      <td>123.41</td>\n",
       "      <td>111.75</td>\n",
       "      <td>806.15</td>\n",
       "      <td>131.07</td>\n",
       "    </tr>\n",
       "    <tr>\n",
       "      <th>2017-01-09</th>\n",
       "      <td>118.99</td>\n",
       "      <td>796.92</td>\n",
       "      <td>124.90</td>\n",
       "      <td>112.67</td>\n",
       "      <td>806.65</td>\n",
       "      <td>130.95</td>\n",
       "    </tr>\n",
       "  </tbody>\n",
       "</table>\n",
       "</div>"
      ],
      "text/plain": [
       "              AAPL    AMZN      FB     GLD    GOOG    NFLX\n",
       "Date                                                      \n",
       "2017-01-03  116.15  753.67  116.86  110.47  786.14  127.49\n",
       "2017-01-04  116.02  757.18  118.69  110.86  786.90  129.41\n",
       "2017-01-05  116.61  780.45  120.67  112.58  794.02  131.81\n",
       "2017-01-06  117.91  795.99  123.41  111.75  806.15  131.07\n",
       "2017-01-09  118.99  796.92  124.90  112.67  806.65  130.95"
      ]
     },
     "execution_count": 29,
     "metadata": {},
     "output_type": "execute_result"
    }
   ],
   "source": [
    "stocks = [\"FB\",\"AAPL\",\"AMZN\",\"NFLX\",\"GOOG\",\"GLD\"]\n",
    "start = dt(2017, 1, 1)\n",
    "end = dt(2017, 12, 31)\n",
    "\n",
    "gstocks_df= web.DataReader(stocks, \"google\", start, end)[\"Close\"]\n",
    "#df_AAPL = AAPL_df[[\"Open\",\"Low\",\"High\",\"Close\",\"Volume\"]]\n",
    "\n",
    "gstocks_df.head()"
   ]
  },
  {
   "cell_type": "code",
   "execution_count": 32,
   "metadata": {
    "scrolled": true
   },
   "outputs": [
    {
     "data": {
      "text/html": [
       "<div>\n",
       "<style>\n",
       "    .dataframe thead tr:only-child th {\n",
       "        text-align: right;\n",
       "    }\n",
       "\n",
       "    .dataframe thead th {\n",
       "        text-align: left;\n",
       "    }\n",
       "\n",
       "    .dataframe tbody tr th {\n",
       "        vertical-align: top;\n",
       "    }\n",
       "</style>\n",
       "<table border=\"1\" class=\"dataframe\">\n",
       "  <thead>\n",
       "    <tr style=\"text-align: right;\">\n",
       "      <th></th>\n",
       "      <th>AAPL</th>\n",
       "      <th>AMZN</th>\n",
       "      <th>FB</th>\n",
       "      <th>GLD</th>\n",
       "      <th>GOOG</th>\n",
       "      <th>NFLX</th>\n",
       "    </tr>\n",
       "  </thead>\n",
       "  <tbody>\n",
       "    <tr>\n",
       "      <th>count</th>\n",
       "      <td>251.000000</td>\n",
       "      <td>251.000000</td>\n",
       "      <td>251.000000</td>\n",
       "      <td>251.000000</td>\n",
       "      <td>251.000000</td>\n",
       "      <td>251.000000</td>\n",
       "    </tr>\n",
       "    <tr>\n",
       "      <th>mean</th>\n",
       "      <td>150.551036</td>\n",
       "      <td>968.167012</td>\n",
       "      <td>156.576175</td>\n",
       "      <td>119.704661</td>\n",
       "      <td>921.781434</td>\n",
       "      <td>165.374263</td>\n",
       "    </tr>\n",
       "    <tr>\n",
       "      <th>std</th>\n",
       "      <td>14.621232</td>\n",
       "      <td>106.580210</td>\n",
       "      <td>17.379058</td>\n",
       "      <td>3.132584</td>\n",
       "      <td>77.232928</td>\n",
       "      <td>21.295641</td>\n",
       "    </tr>\n",
       "    <tr>\n",
       "      <th>min</th>\n",
       "      <td>116.020000</td>\n",
       "      <td>753.670000</td>\n",
       "      <td>116.860000</td>\n",
       "      <td>110.470000</td>\n",
       "      <td>786.140000</td>\n",
       "      <td>127.490000</td>\n",
       "    </tr>\n",
       "    <tr>\n",
       "      <th>25%</th>\n",
       "      <td>141.815000</td>\n",
       "      <td>889.025000</td>\n",
       "      <td>141.000000</td>\n",
       "      <td>117.725000</td>\n",
       "      <td>836.995000</td>\n",
       "      <td>144.245000</td>\n",
       "    </tr>\n",
       "    <tr>\n",
       "      <th>50%</th>\n",
       "      <td>152.740000</td>\n",
       "      <td>967.990000</td>\n",
       "      <td>153.610000</td>\n",
       "      <td>119.820000</td>\n",
       "      <td>929.570000</td>\n",
       "      <td>162.430000</td>\n",
       "    </tr>\n",
       "    <tr>\n",
       "      <th>75%</th>\n",
       "      <td>159.855000</td>\n",
       "      <td>1002.970000</td>\n",
       "      <td>171.975000</td>\n",
       "      <td>121.730000</td>\n",
       "      <td>972.760000</td>\n",
       "      <td>185.595000</td>\n",
       "    </tr>\n",
       "    <tr>\n",
       "      <th>max</th>\n",
       "      <td>176.420000</td>\n",
       "      <td>1195.830000</td>\n",
       "      <td>183.030000</td>\n",
       "      <td>128.130000</td>\n",
       "      <td>1077.140000</td>\n",
       "      <td>202.680000</td>\n",
       "    </tr>\n",
       "  </tbody>\n",
       "</table>\n",
       "</div>"
      ],
      "text/plain": [
       "             AAPL         AMZN          FB         GLD         GOOG  \\\n",
       "count  251.000000   251.000000  251.000000  251.000000   251.000000   \n",
       "mean   150.551036   968.167012  156.576175  119.704661   921.781434   \n",
       "std     14.621232   106.580210   17.379058    3.132584    77.232928   \n",
       "min    116.020000   753.670000  116.860000  110.470000   786.140000   \n",
       "25%    141.815000   889.025000  141.000000  117.725000   836.995000   \n",
       "50%    152.740000   967.990000  153.610000  119.820000   929.570000   \n",
       "75%    159.855000  1002.970000  171.975000  121.730000   972.760000   \n",
       "max    176.420000  1195.830000  183.030000  128.130000  1077.140000   \n",
       "\n",
       "             NFLX  \n",
       "count  251.000000  \n",
       "mean   165.374263  \n",
       "std     21.295641  \n",
       "min    127.490000  \n",
       "25%    144.245000  \n",
       "50%    162.430000  \n",
       "75%    185.595000  \n",
       "max    202.680000  "
      ]
     },
     "execution_count": 32,
     "metadata": {},
     "output_type": "execute_result"
    }
   ],
   "source": [
    "gstocks_df.describe()"
   ]
  },
  {
   "cell_type": "code",
   "execution_count": 31,
   "metadata": {},
   "outputs": [
    {
     "ename": "NameError",
     "evalue": "name 'corr_df' is not defined",
     "output_type": "error",
     "traceback": [
      "\u001b[0;31m---------------------------------------------------------------------------\u001b[0m",
      "\u001b[0;31mNameError\u001b[0m                                 Traceback (most recent call last)",
      "\u001b[0;32m<ipython-input-31-14eabb5e0835>\u001b[0m in \u001b[0;36m<module>\u001b[0;34m()\u001b[0m\n\u001b[1;32m      1\u001b[0m \u001b[0;31m# Daily corelation between the stocks\u001b[0m\u001b[0;34m\u001b[0m\u001b[0;34m\u001b[0m\u001b[0m\n\u001b[0;32m----> 2\u001b[0;31m \u001b[0mcorr_df\u001b[0m \u001b[0;34m=\u001b[0m \u001b[0mcorr_df\u001b[0m\u001b[0;34m.\u001b[0m\u001b[0mcorr\u001b[0m\u001b[0;34m(\u001b[0m\u001b[0;34m)\u001b[0m\u001b[0;34m\u001b[0m\u001b[0m\n\u001b[0m\u001b[1;32m      3\u001b[0m \u001b[0mcorr_df\u001b[0m\u001b[0;34m.\u001b[0m\u001b[0mhead\u001b[0m\u001b[0;34m(\u001b[0m\u001b[0;34m)\u001b[0m\u001b[0;34m\u001b[0m\u001b[0m\n",
      "\u001b[0;31mNameError\u001b[0m: name 'corr_df' is not defined"
     ]
    }
   ],
   "source": [
    "# Daily corelation between the stocks\n",
    "corr_df = corr_df.corr()\n",
    "corr_df.head()"
   ]
  },
  {
   "cell_type": "code",
   "execution_count": 24,
   "metadata": {},
   "outputs": [
    {
     "ename": "NameError",
     "evalue": "name 'corr_df' is not defined",
     "output_type": "error",
     "traceback": [
      "\u001b[0;31m---------------------------------------------------------------------------\u001b[0m",
      "\u001b[0;31mNameError\u001b[0m                                 Traceback (most recent call last)",
      "\u001b[0;32m<ipython-input-24-965b24a4517c>\u001b[0m in \u001b[0;36m<module>\u001b[0;34m()\u001b[0m\n\u001b[1;32m      1\u001b[0m \u001b[0;31m# checking how a perticular stock, here I took AMZN, is corelated to other stocks\u001b[0m\u001b[0;34m\u001b[0m\u001b[0;34m\u001b[0m\u001b[0m\n\u001b[1;32m      2\u001b[0m \u001b[0;34m\u001b[0m\u001b[0m\n\u001b[0;32m----> 3\u001b[0;31m \u001b[0mcorr_df\u001b[0m\u001b[0;34m[\u001b[0m\u001b[0;34m\"AMZN\"\u001b[0m\u001b[0;34m]\u001b[0m\u001b[0;34m.\u001b[0m\u001b[0msort_values\u001b[0m\u001b[0;34m(\u001b[0m\u001b[0mascending\u001b[0m \u001b[0;34m=\u001b[0m \u001b[0;32mFalse\u001b[0m\u001b[0;34m)\u001b[0m\u001b[0;34m\u001b[0m\u001b[0m\n\u001b[0m",
      "\u001b[0;31mNameError\u001b[0m: name 'corr_df' is not defined"
     ]
    }
   ],
   "source": [
    "# checking how a perticular stock, here I took AMZN, is corelated to other stocks\n",
    "\n",
    "corr_df[\"AMZN\"].sort_values(ascending = False)"
   ]
  },
  {
   "cell_type": "code",
   "execution_count": null,
   "metadata": {
    "collapsed": true
   },
   "outputs": [],
   "source": [
    "from pandas.tools.plotting import scatter_matrix\n",
    "#scatter_matrix(stocks_data, alpha = 0.3, figsize=(16,12), diagonal='kde')\n",
    "scatter_matrix(stocks_data, alpha = 0.3, figsize=(16,12))\n",
    "plt.savefig(\"stocksdata_scattermatrix.png\")\n",
    "#plt.show()"
   ]
  },
  {
   "cell_type": "code",
   "execution_count": null,
   "metadata": {
    "collapsed": true
   },
   "outputs": [],
   "source": [
    "#plotting pair plot for correlation dataframe \"corr_stocks\"\n",
    "\n",
    "import seaborn as sns\n",
    "sns.set(style=\"ticks\")\n",
    "\n",
    "sns.pairplot(corr_stocks)\n",
    "plt.savefig(\"corrstocks_pairplot.png\")\n",
    "#plt.show()"
   ]
  },
  {
   "cell_type": "code",
   "execution_count": null,
   "metadata": {
    "collapsed": true,
    "scrolled": false
   },
   "outputs": [],
   "source": [
    "\n",
    "stocks_data.plot(legend = True, figsize = (15,5))\n",
    "plt.savefig(\"stocksdata.png\")\n",
    "#plt.show()"
   ]
  },
  {
   "cell_type": "code",
   "execution_count": null,
   "metadata": {
    "collapsed": true
   },
   "outputs": [],
   "source": [
    "# Sentimental Analysis\n",
    "\n",
    "# I have some progress on code.  But still working on filtering tweets from desired users\n",
    "\n",
    "# I will take the tweets from 10 different famous users/analysts"
   ]
  },
  {
   "cell_type": "code",
   "execution_count": null,
   "metadata": {
    "collapsed": true
   },
   "outputs": [],
   "source": [
    "# creating csv file of the original df with opne, close, high and low columns\n",
    "diffmain_df = pd.read_csv(\"stocks_data.csv\")\n",
    "diffmain_df.head()"
   ]
  },
  {
   "cell_type": "code",
   "execution_count": null,
   "metadata": {
    "collapsed": true
   },
   "outputs": [],
   "source": []
  }
 ],
 "metadata": {
  "kernelspec": {
   "display_name": "Python 3",
   "language": "python",
   "name": "python3"
  },
  "language_info": {
   "codemirror_mode": {
    "name": "ipython",
    "version": 3
   },
   "file_extension": ".py",
   "mimetype": "text/x-python",
   "name": "python",
   "nbconvert_exporter": "python",
   "pygments_lexer": "ipython3",
   "version": "3.6.2"
  }
 },
 "nbformat": 4,
 "nbformat_minor": 2
}
